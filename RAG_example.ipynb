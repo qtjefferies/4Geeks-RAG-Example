{
 "cells": [
  {
   "cell_type": "markdown",
   "metadata": {},
   "source": [
    "## RAG Example"
   ]
  },
  {
   "cell_type": "code",
   "execution_count": 37,
   "metadata": {},
   "outputs": [],
   "source": [
    "# Import Dependencies\n",
    "\n",
    "import PyPDF2\n",
    "import openai\n",
    "from openai import OpenAI\n",
    "from pinecone import Pinecone, ServerlessSpec\n",
    "import pinecone\n",
    "import os\n",
    "from tiktoken import get_encoding\n",
    "from dotenv import load_dotenv"
   ]
  },
  {
   "cell_type": "code",
   "execution_count": 38,
   "metadata": {},
   "outputs": [],
   "source": [
    "# Load environment variables from a .env file\n",
    "load_dotenv()\n",
    "\n",
    "# Set OpenAI API Key from environment variable\n",
    "openai.api_key = os.getenv(\"OPENAI_KEY\")\n",
    "pinecone_api_key = os.getenv(\"PINECONE_API_KEY\")\n",
    "\n",
    "client = OpenAI(api_key=os.getenv(\"OPENAI_KEY\"))\n",
    "\n",
    "# Initialize Pinecone using the Pinecone class\n",
    "pc = Pinecone(api_key=pinecone_api_key)"
   ]
  },
  {
   "cell_type": "code",
   "execution_count": 39,
   "metadata": {},
   "outputs": [],
   "source": [
    "# Check if the index exists, otherwise create one\n",
    "index_name = \"rag-example\"\n",
    "if index_name not in pc.list_indexes().names():\n",
    "    pc.create_index(\n",
    "        name=index_name,\n",
    "        dimension=1536,  # Your embedding dimensions\n",
    "        metric=\"cosine\",\n",
    "        spec=ServerlessSpec(\n",
    "            cloud=\"aws\",  # You specified AWS\n",
    "            region=\"us-east-1\"  # Your region\n",
    "        )\n",
    "    )\n",
    "\n",
    "# Connect to the existing index\n",
    "index = pc.Index(index_name)"
   ]
  },
  {
   "cell_type": "code",
   "execution_count": 40,
   "metadata": {},
   "outputs": [],
   "source": [
    "# Function to extract text from the PDF\n",
    "def extract_text_from_pdf(pdf_file):\n",
    "    with open(pdf_file, 'rb') as file:\n",
    "        reader = PyPDF2.PdfReader(file)\n",
    "        text = ''\n",
    "        for page_num in range(len(reader.pages)):\n",
    "            page = reader.pages[page_num]\n",
    "            text += page.extract_text()\n",
    "    return text"
   ]
  },
  {
   "cell_type": "code",
   "execution_count": 41,
   "metadata": {},
   "outputs": [],
   "source": [
    "# Function to chunk the text into smaller pieces\n",
    "def chunk_text(text, chunk_size=1000):\n",
    "    encoding = get_encoding(\"cl100k_base\")  # Tokenizer model\n",
    "    tokens = encoding.encode(text)\n",
    "    chunks = [tokens[i:i + chunk_size] for i in range(0, len(tokens), chunk_size)]\n",
    "    text_chunks = [encoding.decode(chunk) for chunk in chunks]\n",
    "    return text_chunks"
   ]
  },
  {
   "cell_type": "code",
   "execution_count": 42,
   "metadata": {},
   "outputs": [],
   "source": [
    "# Function to generate embeddings using the new OpenAI API\n",
    "def get_embedding(text, engine=\"text-embedding-ada-002\"):\n",
    "    response = openai.embeddings.create(input=[text], model=engine)\n",
    "    return response.data[0].embedding"
   ]
  },
  {
   "cell_type": "code",
   "execution_count": 43,
   "metadata": {},
   "outputs": [],
   "source": [
    "# Function to add chunks to the Pinecone vector database\n",
    "def upload_chunks_to_pinecone(text_chunks):\n",
    "    for idx, chunk in enumerate(text_chunks):\n",
    "        embedding = get_embedding(chunk)\n",
    "        index.upsert([(f\"chunk_{idx}\", embedding, {\"text\": chunk})])"
   ]
  },
  {
   "cell_type": "code",
   "execution_count": 53,
   "metadata": {},
   "outputs": [],
   "source": [
    "def ask_question(question):\n",
    "    # Get the embedding of the question\n",
    "    question_embedding = get_embedding(question)\n",
    "    \n",
    "    # Verify that the embedding has the correct number of dimensions (1536)\n",
    "    if len(question_embedding) != 1536:\n",
    "        raise ValueError(f\"Embedding size is incorrect: {len(question_embedding)} dimensions found, expected 1536.\")\n",
    "    \n",
    "    # Query the Pinecone vector database\n",
    "    result = index.query(vector=question_embedding, top_k=5, include_metadata=True)\n",
    "    \n",
    "    # Use OpenAI to generate an answer based on retrieved chunks\n",
    "    context = \" \".join([match['metadata']['text'] for match in result['matches']])\n",
    "    \n",
    "    # Updated OpenAI API call for chat models using `ChatCompletion.create` method\n",
    "    response = client.chat.completions.create(\n",
    "        model=\"gpt-4o\",\n",
    "        messages=[\n",
    "            {\"role\": \"system\", \"content\": \"You are a helpful assistant.\"},\n",
    "            {\"role\": \"user\", \"content\": f\"Based on the following context: {context}, answer the question: {question}\"}\n",
    "        ],\n",
    "        max_tokens=150\n",
    "    )\n",
    "    \n",
    "    # Return the assistant's answer\n",
    "    return response.choices[0].message.content.strip()\n"
   ]
  },
  {
   "cell_type": "code",
   "execution_count": 45,
   "metadata": {},
   "outputs": [],
   "source": [
    "# Extract text from the PDF\n",
    "pdf_text = extract_text_from_pdf('pvyn1u.pdf')\n",
    "\n",
    "# Chunk the text\n",
    "chunks = chunk_text(pdf_text)\n",
    "\n",
    "# Upload the chunks to Pinecone\n",
    "upload_chunks_to_pinecone(chunks)"
   ]
  },
  {
   "cell_type": "code",
   "execution_count": 54,
   "metadata": {},
   "outputs": [
    {
     "name": "stdout",
     "output_type": "stream",
     "text": [
      "What's the climax of the novel? Ah, that's a great question! The climax is like the big explosion at the end of a fireworks show, you know? It's when everything comes together, like the punchline of a really long joke. In \"The Midnight Feast\" by Lucy Foley, the climax occurs when all the suspense, the secrets, and the drama lead to that intense moment on the cliffs. Francesca and Eddie have this dramatic confrontation, and it's all happening amid the aftermath of the fire and everyone's shady past coming into play. It's the point where you're on the edge of your seat, and you just can't look away because everything is hitting the fan, and you're thinking, \"Wow, this is it. This is the moment we've been\n"
     ]
    }
   ],
   "source": [
    "# Example usage\n",
    "question = \"What is the climax of the novel?\"\n",
    "answer = ask_question(question)\n",
    "print(answer)"
   ]
  }
 ],
 "metadata": {
  "kernelspec": {
   "display_name": "myenv",
   "language": "python",
   "name": "python3"
  },
  "language_info": {
   "codemirror_mode": {
    "name": "ipython",
    "version": 3
   },
   "file_extension": ".py",
   "mimetype": "text/x-python",
   "name": "python",
   "nbconvert_exporter": "python",
   "pygments_lexer": "ipython3",
   "version": "3.12.3"
  }
 },
 "nbformat": 4,
 "nbformat_minor": 2
}
